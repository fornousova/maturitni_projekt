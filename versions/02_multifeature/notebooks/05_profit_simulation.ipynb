{
 "cells": [
  {
   "cell_type": "code",
   "execution_count": 43,
   "id": "63fe70b5-940c-448b-87fe-5877febb5127",
   "metadata": {},
   "outputs": [],
   "source": [
    "# Simuluje jednoduchou obchodní strategii založenou na predikci: pokud model očekává růst, koupíme.\n",
    "import os\n",
    "import torch\n",
    "import numpy as np\n",
    "import pandas as pd\n",
    "import matplotlib.pyplot as plt\n",
    "from collections import defaultdict\n",
    "import sys\n",
    "import pickle\n",
    "\n",
    "sys.path.append(os.path.abspath(\"../scripts\"))\n",
    "from utils import Normalizer"
   ]
  },
  {
   "cell_type": "code",
   "execution_count": 44,
   "id": "95a3e12e-788f-4887-a7ee-1ffad14cc057",
   "metadata": {},
   "outputs": [],
   "source": [
    "# Načte připravené datasety\n",
    "with open(\"../data/preprocessed_datasets.pkl\", \"rb\") as f:\n",
    "    vsechny_datasety = pickle.load(f)\n",
    "\n",
    "# Definice modelu\n",
    "class LSTMModel(torch.nn.Module):\n",
    "    def __init__(self, input_size, hidden_size=64, num_layers=2, dropout=0.3):\n",
    "        super().__init__()\n",
    "        self.lstm = torch.nn.LSTM(input_size, hidden_size, num_layers,\n",
    "                                  dropout=dropout, batch_first=True)\n",
    "        self.fc = torch.nn.Linear(hidden_size, 1)\n",
    "\n",
    "    def forward(self, x):\n",
    "        out, _ = self.lstm(x)\n",
    "        out = out[:, -1, :]\n",
    "        return self.fc(out)"
   ]
  },
  {
   "cell_type": "code",
   "execution_count": 45,
   "id": "c90f2d6f-d4d7-4c02-b414-9761cdd2ef07",
   "metadata": {
    "scrolled": true
   },
   "outputs": [
    {
     "name": "stdout",
     "output_type": "stream",
     "text": [
      "MSFT - první predikce vs. skutečné:\n",
      "Predicted: [322.83884 323.7119  324.58252 325.46484 325.98004]\n",
      "Actual: [328.26950073 326.34173584 327.53793335 322.94104004 325.5607605 ]\n",
      "AAPL - první predikce vs. skutečné:\n",
      "Predicted: [178.5719  178.7931  178.86827 178.87408 178.67873]\n",
      "Actual: [175.86106873 174.56060791 174.18338013 171.62216187 171.74124146]\n",
      "META - první predikce vs. skutečné:\n",
      "Predicted: [295.2427  296.6074  297.89594 298.83728 299.0173 ]\n",
      "Actual: [322.48010254 315.48309326 311.34262085 307.20214844 312.53701782]\n"
     ]
    }
   ],
   "source": [
    "import warnings\n",
    "warnings.filterwarnings(\"ignore\", category=FutureWarning, module=\"torch\")\n",
    "\n",
    "results = []\n",
    "\n",
    "for data in vsechny_datasety:\n",
    "    ticker = data['ticker']\n",
    "    sector = data['sector']\n",
    "    x_val = torch.tensor(data['x_val'], dtype=torch.float32)\n",
    "    y_val = np.array(data['y_val'])\n",
    "    norm = data['target_normalizer']\n",
    "\n",
    "    model = LSTMModel(input_size=x_val.shape[2])\n",
    "    model_path = f\"../results/best_model_{ticker}.pth\"\n",
    "    if not os.path.exists(model_path):\n",
    "        print(f\"Model pro {ticker} chybí, přeskočeno\")\n",
    "        continue\n",
    "\n",
    "    model.load_state_dict(torch.load(model_path, weights_only=True))\n",
    "    model.eval()\n",
    "\n",
    "    with torch.no_grad():\n",
    "        preds = model(x_val).squeeze().numpy()\n",
    "\n",
    "    pred_prices = norm.inverse_transform(preds.reshape(-1, 1)).flatten()\n",
    "    true_prices = norm.inverse_transform(y_val.reshape(-1, 1)).flatten()\n",
    "\n",
    "    if ticker in [\"MSFT\", \"AAPL\", \"META\"]:\n",
    "        print(f\"{ticker} - první predikce vs. skutečné:\")\n",
    "        print(\"Predicted:\", pred_prices[:5])\n",
    "        print(\"Actual:\", true_prices[:5])\n",
    "\n",
    "    profits = []\n",
    "    for today, pred, tomorrow in zip(true_prices[:-1], pred_prices[:-1], true_prices[1:]):\n",
    "        if pred > today:\n",
    "            profits.append(tomorrow - today)\n",
    "        else:\n",
    "            profits.append(0)\n",
    "\n",
    "    cumulative = np.cumsum(profits)\n",
    "    avg_profit = np.mean(profits)\n",
    "\n",
    "    results.append({\n",
    "        \"ticker\": ticker,\n",
    "        \"sector\": sector,\n",
    "        \"total_profit\": cumulative[-1] if len(cumulative) > 0 else 0,\n",
    "        \"avg_profit\": avg_profit\n",
    "    })"
   ]
  },
  {
   "cell_type": "code",
   "execution_count": 46,
   "id": "03316d14-2604-44ba-b9c1-faf9bc290d60",
   "metadata": {},
   "outputs": [
    {
     "data": {
      "text/html": [
       "<div>\n",
       "<style scoped>\n",
       "    .dataframe tbody tr th:only-of-type {\n",
       "        vertical-align: middle;\n",
       "    }\n",
       "\n",
       "    .dataframe tbody tr th {\n",
       "        vertical-align: top;\n",
       "    }\n",
       "\n",
       "    .dataframe thead th {\n",
       "        text-align: right;\n",
       "    }\n",
       "</style>\n",
       "<table border=\"1\" class=\"dataframe\">\n",
       "  <thead>\n",
       "    <tr style=\"text-align: right;\">\n",
       "      <th></th>\n",
       "      <th>ticker</th>\n",
       "      <th>sector</th>\n",
       "      <th>total_profit</th>\n",
       "      <th>avg_profit</th>\n",
       "    </tr>\n",
       "  </thead>\n",
       "  <tbody>\n",
       "    <tr>\n",
       "      <th>8</th>\n",
       "      <td>GS</td>\n",
       "      <td>Finance</td>\n",
       "      <td>216.489990</td>\n",
       "      <td>0.603036</td>\n",
       "    </tr>\n",
       "    <tr>\n",
       "      <th>3</th>\n",
       "      <td>META</td>\n",
       "      <td>Communication</td>\n",
       "      <td>162.961029</td>\n",
       "      <td>0.453930</td>\n",
       "    </tr>\n",
       "    <tr>\n",
       "      <th>7</th>\n",
       "      <td>JPM</td>\n",
       "      <td>Finance</td>\n",
       "      <td>84.903870</td>\n",
       "      <td>0.236501</td>\n",
       "    </tr>\n",
       "    <tr>\n",
       "      <th>0</th>\n",
       "      <td>NVDA</td>\n",
       "      <td>Technology</td>\n",
       "      <td>63.127693</td>\n",
       "      <td>0.175843</td>\n",
       "    </tr>\n",
       "    <tr>\n",
       "      <th>17</th>\n",
       "      <td>UNP</td>\n",
       "      <td>Industrial</td>\n",
       "      <td>59.917236</td>\n",
       "      <td>0.166900</td>\n",
       "    </tr>\n",
       "  </tbody>\n",
       "</table>\n",
       "</div>"
      ],
      "text/plain": [
       "   ticker         sector  total_profit  avg_profit\n",
       "8      GS        Finance    216.489990    0.603036\n",
       "3    META  Communication    162.961029    0.453930\n",
       "7     JPM        Finance     84.903870    0.236501\n",
       "0    NVDA     Technology     63.127693    0.175843\n",
       "17    UNP     Industrial     59.917236    0.166900"
      ]
     },
     "execution_count": 46,
     "metadata": {},
     "output_type": "execute_result"
    }
   ],
   "source": [
    "df = pd.DataFrame(results)\n",
    "df = df.sort_values(\"total_profit\", ascending=False)\n",
    "df.head()"
   ]
  },
  {
   "cell_type": "code",
   "execution_count": 40,
   "id": "9708bb01-de83-4fed-a93a-45797ea6ed93",
   "metadata": {},
   "outputs": [
    {
     "data": {
      "image/png": "[encoded data removed]",
      "text/plain": [
       "<Figure size 1000x500 with 1 Axes>"
      ]
     },
     "metadata": {},
     "output_type": "display_data"
    }
   ],
   "source": [
    "sector_summary = defaultdict(list)\n",
    "for r in results:\n",
    "    sector_summary[r[\"sector\"]].append(r[\"total_profit\"])\n",
    "\n",
    "sector_avg = {s: np.mean(p) for s, p in sector_summary.items()}\n",
    "\n",
    "plt.figure(figsize=(10,5))\n",
    "plt.bar(sector_avg.keys(), sector_avg.values())\n",
    "plt.title(\"Průměrný simulovaný zisk podle sektorů\")\n",
    "plt.ylabel(\"Zisk [USD]\")\n",
    "plt.xticks(rotation=45)\n",
    "plt.grid(True, axis=\"y\", linestyle=\"--\", alpha=0.5)\n",
    "plt.tight_layout()\n",
    "plt.savefig(\"../results/sector_profit_simulation.pdf\")\n",
    "plt.show()"
   ]
  },
  {
   "cell_type": "code",
   "execution_count": 47,
   "id": "3adf24ae-bcec-4009-863f-b1db003eaae9",
   "metadata": {},
   "outputs": [
    {
     "name": "stdout",
     "output_type": "stream",
     "text": [
      "Uloženo do profit_simulation_summary.csv\n"
     ]
    }
   ],
   "source": [
    "df.to_csv(\"../results/profit_simulation_summary.csv\", index=False)\n",
    "print(\"Uloženo do profit_simulation_summary.csv\")"
   ]
  },
  {
   "cell_type": "code",
   "execution_count": null,
   "id": "d61d08c4-dd44-4a68-964a-e189c2aded50",
   "metadata": {},
   "outputs": [],
   "source": []
  }
 ],
 "metadata": {
  "kernelspec": {
   "display_name": "Python 3 (ipykernel)",
   "language": "python",
   "name": "python3"
  },
  "language_info": {
   "codemirror_mode": {
    "name": "ipython",
    "version": 3
   },
   "file_extension": ".py",
   "mimetype": "text/x-python",
   "name": "python",
   "nbconvert_exporter": "python",
   "pygments_lexer": "ipython3",
   "version": "3.11.6"
  }
 },
 "nbformat": 4,
 "nbformat_minor": 5
}
