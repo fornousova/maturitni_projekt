{
 "cells": [
  {
   "cell_type": "code",
   "execution_count": 7,
   "id": "010849c5-bfdd-4a77-bca0-f86c4b33164c",
   "metadata": {},
   "outputs": [],
   "source": [
    "import os\n",
    "import sys\n",
    "import numpy as np\n",
    "import torch\n",
    "import torch.nn as nn\n",
    "from torch.utils.data import DataLoader, TensorDataset\n",
    "\n",
    "# Cesta ke skriptům\n",
    "sys.path.append(os.path.abspath(\"../scripts\"))\n",
    "from utils import Normalizer, create_multifeature_lstm_dataset"
   ]
  },
  {
   "cell_type": "code",
   "execution_count": 8,
   "id": "64a5b5e2-461d-4e5b-80f0-8ef312bbc40c",
   "metadata": {},
   "outputs": [],
   "source": [
    "# Trénovací parametry\n",
    "WINDOW_SIZE = 20\n",
    "BATCH_SIZE = 32\n",
    "EPOCHS = 50\n",
    "LEARNING_RATE = 0.001\n",
    "WEIGHT_DECAY = 1e-5\n",
    "PATIENCE = 5\n",
    "\n",
    "# Načti předzpracovaná data\n",
    "import pickle\n",
    "\n",
    "with open(\"../data/preprocessed_datasets.pkl\", \"rb\") as f:\n",
    "    vsechny_datasety = pickle.load(f)\n",
    "\n",
    "# Vyber jednu firmu (např. NVDA)\n",
    "vybrany = [d for d in vsechny_datasety if d['ticker'] == 'NVDA'][0]\n",
    "\n",
    "x_train = torch.tensor(vybrany['x_train'], dtype=torch.float32)\n",
    "y_train = torch.tensor(vybrany['y_train'], dtype=torch.float32)\n",
    "x_val = torch.tensor(vybrany['x_val'], dtype=torch.float32)\n",
    "y_val = torch.tensor(vybrany['y_val'], dtype=torch.float32)"
   ]
  },
  {
   "cell_type": "code",
   "execution_count": 9,
   "id": "e145c0dd-02fb-4ff7-a8d1-20bb6d7f401c",
   "metadata": {},
   "outputs": [],
   "source": [
    "class LSTMModel(nn.Module):\n",
    "    def __init__(self, input_size, hidden_size, num_layers=1, dropout=0.3):\n",
    "        super().__init__()\n",
    "        self.lstm = nn.LSTM(input_size, hidden_size, num_layers,\n",
    "                            dropout=dropout, batch_first=True)\n",
    "        self.fc = nn.Linear(hidden_size, 1)\n",
    "\n",
    "    def forward(self, x):\n",
    "        out, _ = self.lstm(x)\n",
    "        out = out[:, -1, :]\n",
    "        return self.fc(out)\n",
    "\n",
    "# Inicializace modelu\n",
    "input_size = x_train.shape[2]\n",
    "model = LSTMModel(input_size=input_size, hidden_size=64, num_layers=2, dropout=0.3)\n",
    "\n",
    "loss_fn = nn.MSELoss()\n",
    "optimizer = torch.optim.Adam(model.parameters(), lr=LEARNING_RATE, weight_decay=WEIGHT_DECAY)"
   ]
  },
  {
   "cell_type": "code",
   "execution_count": 11,
   "id": "08cfa4dc-f66d-4cb4-bfca-3c44959c0f9d",
   "metadata": {},
   "outputs": [
    {
     "name": "stdout",
     "output_type": "stream",
     "text": [
      "Epoch 1/50 - Train Loss: 0.0057 - Val Loss: 0.3998\n",
      "Epoch 2/50 - Train Loss: 0.0057 - Val Loss: 0.4162\n",
      "Epoch 3/50 - Train Loss: 0.0057 - Val Loss: 0.3961\n",
      "Epoch 4/50 - Train Loss: 0.0056 - Val Loss: 0.4069\n",
      "Epoch 5/50 - Train Loss: 0.0057 - Val Loss: 0.3739\n",
      "Epoch 6/50 - Train Loss: 0.0057 - Val Loss: 0.3854\n",
      "Epoch 7/50 - Train Loss: 0.0057 - Val Loss: 0.4035\n",
      "Epoch 8/50 - Train Loss: 0.0057 - Val Loss: 0.4156\n",
      "Epoch 9/50 - Train Loss: 0.0056 - Val Loss: 0.3790\n",
      "Epoch 10/50 - Train Loss: 0.0058 - Val Loss: 0.3925\n",
      "⏹️ Early stopping – validace se nezlepšuje\n"
     ]
    }
   ],
   "source": [
    "train_loader = DataLoader(TensorDataset(x_train, y_train), batch_size=BATCH_SIZE, shuffle=True)\n",
    "val_loader = DataLoader(TensorDataset(x_val, y_val), batch_size=BATCH_SIZE)\n",
    "\n",
    "train_losses, val_losses = [], []\n",
    "best_val_loss = float(\"inf\")\n",
    "patience_counter = 0\n",
    "\n",
    "for epoch in range(EPOCHS):\n",
    "    model.train()\n",
    "    train_loss = 0\n",
    "    for xb, yb in train_loader:\n",
    "        pred = model(xb).squeeze()\n",
    "        loss = loss_fn(pred, yb)\n",
    "        optimizer.zero_grad()\n",
    "        loss.backward()\n",
    "        optimizer.step()\n",
    "        train_loss += loss.item()\n",
    "    train_loss /= len(train_loader)\n",
    "\n",
    "    model.eval()\n",
    "    val_loss = 0\n",
    "    with torch.no_grad():\n",
    "        for xb, yb in val_loader:\n",
    "            pred = model(xb).squeeze()\n",
    "            loss = loss_fn(pred, yb)\n",
    "            val_loss += loss.item()\n",
    "    val_loss /= len(val_loader)\n",
    "\n",
    "    train_losses.append(train_loss)\n",
    "    val_losses.append(val_loss)\n",
    "\n",
    "    print(f\"Epoch {epoch+1}/{EPOCHS} - Train Loss: {train_loss:.4f} - Val Loss: {val_loss:.4f}\")\n",
    "\n",
    "    # Early stopping\n",
    "    if val_loss < best_val_loss:\n",
    "        best_val_loss = val_loss\n",
    "        patience_counter = 0\n",
    "        torch.save(model.state_dict(), \"best_model.pth\")\n",
    "    else:\n",
    "        patience_counter += 1\n",
    "\n",
    "    if patience_counter >= PATIENCE:\n",
    "        print(\"⏹️ Early stopping – validace se nezlepšuje\")\n",
    "        break"
   ]
  },
  {
   "cell_type": "code",
   "execution_count": null,
   "id": "1961f2be-a4c0-41fd-8da0-011b394b9a2b",
   "metadata": {},
   "outputs": [],
   "source": []
  }
 ],
 "metadata": {
  "kernelspec": {
   "display_name": "Python 3 (ipykernel)",
   "language": "python",
   "name": "python3"
  },
  "language_info": {
   "codemirror_mode": {
    "name": "ipython",
    "version": 3
   },
   "file_extension": ".py",
   "mimetype": "text/x-python",
   "name": "python",
   "nbconvert_exporter": "python",
   "pygments_lexer": "ipython3",
   "version": "3.11.6"
  }
 },
 "nbformat": 4,
 "nbformat_minor": 5
}
