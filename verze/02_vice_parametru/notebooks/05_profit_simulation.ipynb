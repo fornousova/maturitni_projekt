{
 "cells": [
  {
   "cell_type": "markdown",
   "id": "95d656c1-dc4c-44a7-a686-8982b94bf1cf",
   "metadata": {},
   "source": [
    "Simuluje jednoduchou obchodní strategii založenou na predikci: pokud model očekává růst, koupíme."
   ]
  },
  {
   "cell_type": "code",
   "execution_count": 4,
   "id": "63fe70b5-940c-448b-87fe-5877febb5127",
   "metadata": {},
   "outputs": [],
   "source": [
    "import os\n",
    "import torch\n",
    "import numpy as np\n",
    "import pandas as pd\n",
    "import matplotlib.pyplot as plt\n",
    "from collections import defaultdict\n",
    "import sys\n",
    "import pickle\n",
    "\n",
    "sys.path.append(os.path.abspath(\"../scripts\"))\n",
    "from utils import Normalizer"
   ]
  },
  {
   "cell_type": "code",
   "execution_count": 5,
   "id": "95a3e12e-788f-4887-a7ee-1ffad14cc057",
   "metadata": {},
   "outputs": [],
   "source": [
    "# Načti připravené datasety\n",
    "with open(\"../data/preprocessed_datasets.pkl\", \"rb\") as f:\n",
    "    vsechny_datasety = pickle.load(f)\n",
    "\n",
    "# Definice modelu\n",
    "class LSTMModel(torch.nn.Module):\n",
    "    def __init__(self, input_size, hidden_size=64, num_layers=2, dropout=0.3):\n",
    "        super().__init__()\n",
    "        self.lstm = torch.nn.LSTM(input_size, hidden_size, num_layers,\n",
    "                                  dropout=dropout, batch_first=True)\n",
    "        self.fc = torch.nn.Linear(hidden_size, 1)\n",
    "\n",
    "    def forward(self, x):\n",
    "        out, _ = self.lstm(x)\n",
    "        out = out[:, -1, :]\n",
    "        return self.fc(out)"
   ]
  },
  {
   "cell_type": "code",
   "execution_count": 11,
   "id": "c90f2d6f-d4d7-4c02-b414-9761cdd2ef07",
   "metadata": {
    "scrolled": true
   },
   "outputs": [],
   "source": [
    "import warnings\n",
    "warnings.filterwarnings(\"ignore\", category=FutureWarning, module=\"torch\")\n",
    "\n",
    "results = []\n",
    "\n",
    "for data in vsechny_datasety:\n",
    "    ticker = data['ticker']\n",
    "    sector = data['sector']\n",
    "    x_val = torch.tensor(data['x_val'], dtype=torch.float32)\n",
    "    y_val = np.array(data['y_val'])\n",
    "    norm = data['target_normalizer']\n",
    "\n",
    "    model = LSTMModel(input_size=x_val.shape[2])\n",
    "    model_path = f\"../results/best_model_{ticker}.pth\"\n",
    "    if not os.path.exists(model_path):\n",
    "        print(f\"⚠️ Model pro {ticker} chybí, přeskočeno\")\n",
    "        continue\n",
    "\n",
    "    model.load_state_dict(torch.load(model_path, weights_only=True))\n",
    "    model.eval()\n",
    "\n",
    "    with torch.no_grad():\n",
    "        preds = model(x_val).squeeze().numpy()\n",
    "\n",
    "    # ✅ Oprava: převod na 1D pole\n",
    "    pred_prices = norm.inverse_transform(preds).flatten()\n",
    "    true_prices = norm.inverse_transform(y_val).flatten()\n",
    "\n",
    "    profits = []\n",
    "    for today, pred, tomorrow in zip(true_prices[:-1], pred_prices[:-1], true_prices[1:]):\n",
    "        if pred > today:\n",
    "            profits.append(tomorrow - today)\n",
    "        else:\n",
    "            profits.append(0)\n",
    "\n",
    "    cumulative = np.cumsum(profits)\n",
    "    avg_profit = np.mean(profits)\n",
    "\n",
    "    results.append({\n",
    "        \"ticker\": ticker,\n",
    "        \"sector\": sector,\n",
    "        \"total_profit\": cumulative[-1] if len(cumulative) > 0 else 0,\n",
    "        \"avg_profit\": avg_profit\n",
    "    })"
   ]
  },
  {
   "cell_type": "code",
   "execution_count": 12,
   "id": "03316d14-2604-44ba-b9c1-faf9bc290d60",
   "metadata": {},
   "outputs": [
    {
     "data": {
      "text/html": [
       "<div>\n",
       "<style scoped>\n",
       "    .dataframe tbody tr th:only-of-type {\n",
       "        vertical-align: middle;\n",
       "    }\n",
       "\n",
       "    .dataframe tbody tr th {\n",
       "        vertical-align: top;\n",
       "    }\n",
       "\n",
       "    .dataframe thead th {\n",
       "        text-align: right;\n",
       "    }\n",
       "</style>\n",
       "<table border=\"1\" class=\"dataframe\">\n",
       "  <thead>\n",
       "    <tr style=\"text-align: right;\">\n",
       "      <th></th>\n",
       "      <th>ticker</th>\n",
       "      <th>sector</th>\n",
       "      <th>total_profit</th>\n",
       "      <th>avg_profit</th>\n",
       "    </tr>\n",
       "  </thead>\n",
       "  <tbody>\n",
       "    <tr>\n",
       "      <th>4</th>\n",
       "      <td>DIS</td>\n",
       "      <td>Communication</td>\n",
       "      <td>21.089935</td>\n",
       "      <td>0.058746</td>\n",
       "    </tr>\n",
       "    <tr>\n",
       "      <th>12</th>\n",
       "      <td>NEE</td>\n",
       "      <td>Energy</td>\n",
       "      <td>12.599449</td>\n",
       "      <td>0.035096</td>\n",
       "    </tr>\n",
       "    <tr>\n",
       "      <th>6</th>\n",
       "      <td>BAC</td>\n",
       "      <td>Finance</td>\n",
       "      <td>3.119137</td>\n",
       "      <td>0.008688</td>\n",
       "    </tr>\n",
       "    <tr>\n",
       "      <th>16</th>\n",
       "      <td>BA</td>\n",
       "      <td>Industrial</td>\n",
       "      <td>1.859985</td>\n",
       "      <td>0.005181</td>\n",
       "    </tr>\n",
       "    <tr>\n",
       "      <th>0</th>\n",
       "      <td>NVDA</td>\n",
       "      <td>Technology</td>\n",
       "      <td>0.000000</td>\n",
       "      <td>0.000000</td>\n",
       "    </tr>\n",
       "  </tbody>\n",
       "</table>\n",
       "</div>"
      ],
      "text/plain": [
       "   ticker         sector  total_profit  avg_profit\n",
       "4     DIS  Communication     21.089935    0.058746\n",
       "12    NEE         Energy     12.599449    0.035096\n",
       "6     BAC        Finance      3.119137    0.008688\n",
       "16     BA     Industrial      1.859985    0.005181\n",
       "0    NVDA     Technology      0.000000    0.000000"
      ]
     },
     "execution_count": 12,
     "metadata": {},
     "output_type": "execute_result"
    }
   ],
   "source": [
    "df = pd.DataFrame(results)\n",
    "df = df.sort_values(\"total_profit\", ascending=False)\n",
    "df.head()"
   ]
  },
  {
   "cell_type": "code",
   "execution_count": 13,
   "id": "9708bb01-de83-4fed-a93a-45797ea6ed93",
   "metadata": {},
   "outputs": [
    {
     "data": {
      "image/png": "[encoded data removed]",
      "text/plain": [
       "<Figure size 1000x500 with 1 Axes>"
      ]
     },
     "metadata": {},
     "output_type": "display_data"
    }
   ],
   "source": [
    "sector_summary = defaultdict(list)\n",
    "for r in results:\n",
    "    sector_summary[r[\"sector\"]].append(r[\"total_profit\"])\n",
    "\n",
    "sector_avg = {s: np.mean(p) for s, p in sector_summary.items()}\n",
    "\n",
    "plt.figure(figsize=(10,5))\n",
    "plt.bar(sector_avg.keys(), sector_avg.values())\n",
    "plt.title(\"Průměrný simulovaný zisk podle sektorů\")\n",
    "plt.ylabel(\"Zisk [USD]\")\n",
    "plt.xticks(rotation=45)\n",
    "plt.grid(True, axis=\"y\", linestyle=\"--\", alpha=0.5)\n",
    "plt.tight_layout()\n",
    "plt.savefig(\"../results/sector_profit_simulation.pdf\")\n",
    "plt.show()"
   ]
  },
  {
   "cell_type": "code",
   "execution_count": 9,
   "id": "3adf24ae-bcec-4009-863f-b1db003eaae9",
   "metadata": {},
   "outputs": [
    {
     "name": "stdout",
     "output_type": "stream",
     "text": [
      "✅ Uloženo do profit_simulation_summary.csv\n"
     ]
    }
   ],
   "source": [
    "df.to_csv(\"../results/profit_simulation_summary.csv\", index=False)\n",
    "print(\"✅ Uloženo do profit_simulation_summary.csv\")"
   ]
  },
  {
   "cell_type": "code",
   "execution_count": null,
   "id": "1b012d97-5b85-4a96-b483-f0161f47ea03",
   "metadata": {},
   "outputs": [],
   "source": []
  }
 ],
 "metadata": {
  "kernelspec": {
   "display_name": "Python 3 (ipykernel)",
   "language": "python",
   "name": "python3"
  },
  "language_info": {
   "codemirror_mode": {
    "name": "ipython",
    "version": 3
   },
   "file_extension": ".py",
   "mimetype": "text/x-python",
   "name": "python",
   "nbconvert_exporter": "python",
   "pygments_lexer": "ipython3",
   "version": "3.11.6"
  }
 },
 "nbformat": 4,
 "nbformat_minor": 5
}
